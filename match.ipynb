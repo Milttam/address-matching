{
 "cells": [
  {
   "cell_type": "code",
   "execution_count": 28,
   "metadata": {},
   "outputs": [
    {
     "name": "stdout",
     "output_type": "stream",
     "text": [
      "Requirement already satisfied: polyleven in /Users/milttam/anaconda3/lib/python3.10/site-packages (0.8)\n",
      "\n",
      "\u001b[1m[\u001b[0m\u001b[34;49mnotice\u001b[0m\u001b[1;39;49m]\u001b[0m\u001b[39;49m A new release of pip is available: \u001b[0m\u001b[31;49m23.1.1\u001b[0m\u001b[39;49m -> \u001b[0m\u001b[32;49m23.3.1\u001b[0m\n",
      "\u001b[1m[\u001b[0m\u001b[34;49mnotice\u001b[0m\u001b[1;39;49m]\u001b[0m\u001b[39;49m To update, run: \u001b[0m\u001b[32;49mpip install --upgrade pip\u001b[0m\n"
     ]
    }
   ],
   "source": [
    "import numpy as np\n",
    "import pandas as pd\n",
    "import matplotlib.pyplot as plt\n",
    "import seaborn as sns\n",
    "import json\n",
    "import random\n",
    "\n",
    "# module imports\n",
    "! pip install polyleven\n",
    "#from data.pairs import make_entries\n",
    "import distances\n",
    "from geocoding import geocode\n",
    "\n"
   ]
  },
  {
   "cell_type": "code",
   "execution_count": 29,
   "metadata": {},
   "outputs": [],
   "source": [
    "def make_entries():\n",
    "    \"\"\"\n",
    "    Creates a pandas dataframe with the following columns: address1, address2, label, \n",
    "    where each entry represents a pair of addresses and their label (0 for different, 1 for same)\n",
    "    \"\"\"\n",
    "    # initialize pandas dataframe with defined columns\n",
    "    df = pd.DataFrame(columns=['address1', 'address2', 'label'])\n",
    "\n",
    "    # open addresses json file\n",
    "    with open(\"data/addresses_data.json\") as f:\n",
    "        addresses = json.load(f)\n",
    "    addresses = addresses[\"res\"]\n",
    "\n",
    "    # add case1 entries\n",
    "    df = pd.concat([df, case1(addresses)], ignore_index=True)\n",
    "\n",
    "    # add case4 entries\n",
    "    df = pd.concat([df, case4(addresses)], ignore_index=True)\n",
    "\n",
    "    return df\n",
    "\n",
    "\n",
    "def case1(addresses):\n",
    "    \"\"\"\n",
    "    Given a list of addresses, return a DF with the following entries as epcified by case1:\n",
    "    For every address object, create an entry with the unstructured address to itself with a label of 1\n",
    "    \"\"\"\n",
    "    df = pd.DataFrame(columns=['address1', 'address2', 'label'])\n",
    "    for address in addresses:\n",
    "        string_add = address[\"street_address\"] + \", \" + \\\n",
    "            address[\"city\"] + \", \" + address[\"state\"] + \" \" + address[\"zip\"]\n",
    "        df.loc[len(df)] = {'address1': string_add, 'address2': string_add,\n",
    "                           'label': 1}\n",
    "    return df\n",
    "\n",
    "\n",
    "def case4(addresses):\n",
    "    \"\"\"\n",
    "    Given a list of addresses, return a DF with the 10000 entries as epcified by case4:\n",
    "    Select two random addresses with label 0\n",
    "    \"\"\"\n",
    "    df = pd.DataFrame(columns=['address1', 'address2', 'label'])\n",
    "    for i in range(10000):\n",
    "        # select two random addresses\n",
    "        address1 = random.choice(addresses)\n",
    "        address2 = random.choice(addresses)\n",
    "        # make sure they are different\n",
    "        while address1 == address2:\n",
    "            address2 = random.choice(addresses)\n",
    "        # create entry\n",
    "        string_add1 = address1[\"street_address\"] + \", \" + \\\n",
    "            address1[\"city\"] + \", \" + address1[\"state\"] + \" \" + address1[\"zip\"]\n",
    "        string_add2 = address2[\"street_address\"] + \", \" + \\\n",
    "            address2[\"city\"] + \", \" + address2[\"state\"] + \" \" + address2[\"zip\"]\n",
    "        df.loc[len(df)] = {'address1': string_add1,\n",
    "                           'address2': string_add2, 'label': 0}\n",
    "    return df\n"
   ]
  },
  {
   "cell_type": "code",
   "execution_count": 31,
   "metadata": {},
   "outputs": [],
   "source": [
    "addresses = make_entries()"
   ]
  },
  {
   "cell_type": "code",
   "execution_count": 33,
   "metadata": {},
   "outputs": [
    {
     "data": {
      "text/html": [
       "<div>\n",
       "<style scoped>\n",
       "    .dataframe tbody tr th:only-of-type {\n",
       "        vertical-align: middle;\n",
       "    }\n",
       "\n",
       "    .dataframe tbody tr th {\n",
       "        vertical-align: top;\n",
       "    }\n",
       "\n",
       "    .dataframe thead th {\n",
       "        text-align: right;\n",
       "    }\n",
       "</style>\n",
       "<table border=\"1\" class=\"dataframe\">\n",
       "  <thead>\n",
       "    <tr style=\"text-align: right;\">\n",
       "      <th></th>\n",
       "      <th>address1</th>\n",
       "      <th>address2</th>\n",
       "      <th>label</th>\n",
       "    </tr>\n",
       "  </thead>\n",
       "  <tbody>\n",
       "    <tr>\n",
       "      <th>count</th>\n",
       "      <td>11121</td>\n",
       "      <td>11121</td>\n",
       "      <td>11121</td>\n",
       "    </tr>\n",
       "    <tr>\n",
       "      <th>unique</th>\n",
       "      <td>920</td>\n",
       "      <td>920</td>\n",
       "      <td>2</td>\n",
       "    </tr>\n",
       "    <tr>\n",
       "      <th>top</th>\n",
       "      <td>111 COLCHESTER AVE, BURLINGTON, VT 05401</td>\n",
       "      <td>111 COLCHESTER AVE, BURLINGTON, VT 05401</td>\n",
       "      <td>0</td>\n",
       "    </tr>\n",
       "    <tr>\n",
       "      <th>freq</th>\n",
       "      <td>81</td>\n",
       "      <td>94</td>\n",
       "      <td>10000</td>\n",
       "    </tr>\n",
       "  </tbody>\n",
       "</table>\n",
       "</div>"
      ],
      "text/plain": [
       "                                        address1  \\\n",
       "count                                      11121   \n",
       "unique                                       920   \n",
       "top     111 COLCHESTER AVE, BURLINGTON, VT 05401   \n",
       "freq                                          81   \n",
       "\n",
       "                                        address2  label  \n",
       "count                                      11121  11121  \n",
       "unique                                       920      2  \n",
       "top     111 COLCHESTER AVE, BURLINGTON, VT 05401      0  \n",
       "freq                                          94  10000  "
      ]
     },
     "execution_count": 33,
     "metadata": {},
     "output_type": "execute_result"
    }
   ],
   "source": []
  },
  {
   "cell_type": "markdown",
   "metadata": {},
   "source": [
    "### Vectorization of Addresses"
   ]
  },
  {
   "cell_type": "code",
   "execution_count": 35,
   "metadata": {},
   "outputs": [
    {
     "name": "stdout",
     "output_type": "stream",
     "text": [
      "Collecting usaddress\n",
      "  Downloading usaddress-0.5.10-py2.py3-none-any.whl (63 kB)\n",
      "\u001b[2K     \u001b[90m━━━━━━━━━━━━━━━━━━━━━━━━━━━━━━━━━━━━━━━━\u001b[0m \u001b[32m63.9/63.9 kB\u001b[0m \u001b[31m1.5 MB/s\u001b[0m eta \u001b[36m0:00:00\u001b[0m\n",
      "\u001b[?25hRequirement already satisfied: future>=0.14 in /Users/milttam/anaconda3/lib/python3.10/site-packages (from usaddress) (0.18.3)\n",
      "Collecting probableparsing (from usaddress)\n",
      "  Downloading probableparsing-0.0.1-py2.py3-none-any.whl (3.1 kB)\n",
      "Collecting python-crfsuite>=0.7 (from usaddress)\n",
      "  Downloading python_crfsuite-0.9.9-cp310-cp310-macosx_10_9_x86_64.whl (184 kB)\n",
      "\u001b[2K     \u001b[90m━━━━━━━━━━━━━━━━━━━━━━━━━━━━━━━━━━━━━━━\u001b[0m \u001b[32m184.8/184.8 kB\u001b[0m \u001b[31m4.9 MB/s\u001b[0m eta \u001b[36m0:00:00\u001b[0m\n",
      "\u001b[?25hInstalling collected packages: python-crfsuite, probableparsing, usaddress\n",
      "Successfully installed probableparsing-0.0.1 python-crfsuite-0.9.9 usaddress-0.5.10\n",
      "\n",
      "\u001b[1m[\u001b[0m\u001b[34;49mnotice\u001b[0m\u001b[1;39;49m]\u001b[0m\u001b[39;49m A new release of pip is available: \u001b[0m\u001b[31;49m23.1.1\u001b[0m\u001b[39;49m -> \u001b[0m\u001b[32;49m23.3.1\u001b[0m\n",
      "\u001b[1m[\u001b[0m\u001b[34;49mnotice\u001b[0m\u001b[1;39;49m]\u001b[0m\u001b[39;49m To update, run: \u001b[0m\u001b[32;49mpip install --upgrade pip\u001b[0m\n"
     ]
    }
   ],
   "source": [
    "! pip install usaddress\n",
    "import label"
   ]
  },
  {
   "cell_type": "code",
   "execution_count": 45,
   "metadata": {},
   "outputs": [
    {
     "name": "stdout",
     "output_type": "stream",
     "text": [
      "OrderedDict([('address_number', '2841'), ('street_name', 'DEBARR RD'), ('city', 'ANCHORAGE'), ('state', 'AK'), ('postal_code', '99508')])\n"
     ]
    },
    {
     "ename": "KeyError",
     "evalue": "'secondary_address'",
     "output_type": "error",
     "traceback": [
      "\u001b[0;31m---------------------------------------------------------------------------\u001b[0m",
      "\u001b[0;31mKeyError\u001b[0m                                  Traceback (most recent call last)",
      "\u001b[1;32m/Users/milttam/classes/address-matching/match.ipynb Cell 7\u001b[0m line \u001b[0;36m2\n\u001b[1;32m     <a href='vscode-notebook-cell:/Users/milttam/classes/address-matching/match.ipynb#X11sZmlsZQ%3D%3D?line=14'>15</a>\u001b[0m   \u001b[39mprint\u001b[39m(labeled_1)\n\u001b[1;32m     <a href='vscode-notebook-cell:/Users/milttam/classes/address-matching/match.ipynb#X11sZmlsZQ%3D%3D?line=16'>17</a>\u001b[0m   \u001b[39m# Add the labeled entry and distance feature to the new dataframe\u001b[39;00m\n\u001b[1;32m     <a href='vscode-notebook-cell:/Users/milttam/classes/address-matching/match.ipynb#X11sZmlsZQ%3D%3D?line=17'>18</a>\u001b[0m   labeled_df\u001b[39m.\u001b[39mloc[index] \u001b[39m=\u001b[39m {\n\u001b[1;32m     <a href='vscode-notebook-cell:/Users/milttam/classes/address-matching/match.ipynb#X11sZmlsZQ%3D%3D?line=18'>19</a>\u001b[0m     \u001b[39m'\u001b[39m\u001b[39maddress_number_dist\u001b[39m\u001b[39m'\u001b[39m:distance_jaro_winkler(labeled_1[\u001b[39m'\u001b[39m\u001b[39maddress_number\u001b[39m\u001b[39m'\u001b[39m], labeled_2[\u001b[39m'\u001b[39m\u001b[39maddress_number\u001b[39m\u001b[39m'\u001b[39m]), \n\u001b[1;32m     <a href='vscode-notebook-cell:/Users/milttam/classes/address-matching/match.ipynb#X11sZmlsZQ%3D%3D?line=19'>20</a>\u001b[0m     \u001b[39m'\u001b[39m\u001b[39mstreet_name_dist\u001b[39m\u001b[39m'\u001b[39m:distance_jaro_winkler(labeled_1[\u001b[39m'\u001b[39m\u001b[39mstreet_name\u001b[39m\u001b[39m'\u001b[39m], labeled_2[\u001b[39m'\u001b[39m\u001b[39mstreet_name\u001b[39m\u001b[39m'\u001b[39m]),\n\u001b[0;32m---> <a href='vscode-notebook-cell:/Users/milttam/classes/address-matching/match.ipynb#X11sZmlsZQ%3D%3D?line=20'>21</a>\u001b[0m     \u001b[39m'\u001b[39m\u001b[39msecondary_address_dist\u001b[39m\u001b[39m'\u001b[39m:distance_jaro_winkler(labeled_1[\u001b[39m'\u001b[39;49m\u001b[39msecondary_address\u001b[39;49m\u001b[39m'\u001b[39;49m], labeled_2[\u001b[39m'\u001b[39m\u001b[39msecondary_address\u001b[39m\u001b[39m'\u001b[39m]),\n\u001b[1;32m     <a href='vscode-notebook-cell:/Users/milttam/classes/address-matching/match.ipynb#X11sZmlsZQ%3D%3D?line=21'>22</a>\u001b[0m     \u001b[39m'\u001b[39m\u001b[39mcity_dist\u001b[39m\u001b[39m'\u001b[39m:distance_jaro_winkler(labeled_1[\u001b[39m'\u001b[39m\u001b[39mcity\u001b[39m\u001b[39m'\u001b[39m], labeled_2[\u001b[39m'\u001b[39m\u001b[39mcity\u001b[39m\u001b[39m'\u001b[39m]),\n\u001b[1;32m     <a href='vscode-notebook-cell:/Users/milttam/classes/address-matching/match.ipynb#X11sZmlsZQ%3D%3D?line=22'>23</a>\u001b[0m     \u001b[39m'\u001b[39m\u001b[39mstate_dist\u001b[39m\u001b[39m'\u001b[39m:distance_jaro_winkler(labeled_1[\u001b[39m'\u001b[39m\u001b[39mstate\u001b[39m\u001b[39m'\u001b[39m], labeled_2[\u001b[39m'\u001b[39m\u001b[39mstate\u001b[39m\u001b[39m'\u001b[39m]),\n\u001b[1;32m     <a href='vscode-notebook-cell:/Users/milttam/classes/address-matching/match.ipynb#X11sZmlsZQ%3D%3D?line=23'>24</a>\u001b[0m     \u001b[39m'\u001b[39m\u001b[39mpostal_code\u001b[39m\u001b[39m'\u001b[39m:distance_jaro_winkler(labeled_1[\u001b[39m'\u001b[39m\u001b[39mpostal_code\u001b[39m\u001b[39m'\u001b[39m], labeled_2[\u001b[39m'\u001b[39m\u001b[39mpostal_code\u001b[39m\u001b[39m'\u001b[39m]),\n\u001b[1;32m     <a href='vscode-notebook-cell:/Users/milttam/classes/address-matching/match.ipynb#X11sZmlsZQ%3D%3D?line=24'>25</a>\u001b[0m     \u001b[39m'\u001b[39m\u001b[39mlabel\u001b[39m\u001b[39m'\u001b[39m: row[\u001b[39m'\u001b[39m\u001b[39mlabel\u001b[39m\u001b[39m'\u001b[39m]}\n\u001b[1;32m     <a href='vscode-notebook-cell:/Users/milttam/classes/address-matching/match.ipynb#X11sZmlsZQ%3D%3D?line=26'>27</a>\u001b[0m labeled_df\u001b[39m.\u001b[39mhead()\n",
      "\u001b[0;31mKeyError\u001b[0m: 'secondary_address'"
     ]
    }
   ],
   "source": [
    "from distances import distance_jaro_winkler\n",
    "import usaddress\n",
    "\n",
    "# Create a new dataframe to store the labeled entries and distance features\n",
    "labeled_df = pd.DataFrame(columns=['address_number_dist', 'street_name_dist', 'secondary_address_dist', 'city_dist', 'state_dist', 'postal_code', 'label'])\n",
    "labels = ['address_number', 'street_name', 'secondary_address', 'city', 'state', 'postal_code']\n",
    "# Iterate over each entry in the addresses dataframe\n",
    "for index, row in addresses.iterrows():\n",
    "  address1 = row['address1']\n",
    "  address2 = row['address2']\n",
    "  labeled_1 = usaddress.tag(address1, tag_mapping=label.address_map_dict)[0]\n",
    "  labeled_2 = usaddress.tag(address1, tag_mapping=label.address_map_dict)[0]\n",
    "  \n",
    "  for label in labels:\n",
    "    if label not in labeled_1:\n",
    "      labeled_1.update({label:''})\n",
    "    if label not in labeled_2:\n",
    "      labeled_2.update({label:''})\n",
    "\n",
    "  #handle cases with different number of labels here, but for now, assume same\n",
    "  print(labeled_1)\n",
    "  \n",
    "  # Add the labeled entry and distance feature to the new dataframe\n",
    "  labeled_df.loc[index] = {\n",
    "    'address_number_dist':distance_jaro_winkler(labeled_1['address_number'], labeled_2['address_number']), \n",
    "    'street_name_dist':distance_jaro_winkler(labeled_1['street_name'], labeled_2['street_name']),\n",
    "    'secondary_address_dist':distance_jaro_winkler(labeled_1['secondary_address'], labeled_2['secondary_address']),\n",
    "    'city_dist':distance_jaro_winkler(labeled_1['city'], labeled_2['city']),\n",
    "    'state_dist':distance_jaro_winkler(labeled_1['state'], labeled_2['state']),\n",
    "    'postal_code':distance_jaro_winkler(labeled_1['postal_code'], labeled_2['postal_code']),\n",
    "    'label': row['label']}\n",
    "\n",
    "labeled_df.head()\n"
   ]
  }
 ],
 "metadata": {
  "kernelspec": {
   "display_name": "base",
   "language": "python",
   "name": "python3"
  },
  "language_info": {
   "codemirror_mode": {
    "name": "ipython",
    "version": 3
   },
   "file_extension": ".py",
   "mimetype": "text/x-python",
   "name": "python",
   "nbconvert_exporter": "python",
   "pygments_lexer": "ipython3",
   "version": "3.10.9"
  }
 },
 "nbformat": 4,
 "nbformat_minor": 2
}
